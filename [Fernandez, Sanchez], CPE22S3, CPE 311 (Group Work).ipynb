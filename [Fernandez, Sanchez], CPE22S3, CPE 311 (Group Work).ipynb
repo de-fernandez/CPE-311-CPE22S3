{
  "nbformat": 4,
  "nbformat_minor": 0,
  "metadata": {
    "colab": {
      "provenance": [],
      "include_colab_link": true
    },
    "kernelspec": {
      "name": "python3",
      "display_name": "Python 3"
    },
    "language_info": {
      "name": "python"
    }
  },
  "cells": [
    {
      "cell_type": "markdown",
      "metadata": {
        "id": "view-in-github",
        "colab_type": "text"
      },
      "source": [
        "<a href=\"https://colab.research.google.com/github/de-fernandez/CPE-311-CPE22S3/blob/main/%5BFernandez%2C%20Sanchez%5D%2C%20CPE22S3%2C%20CPE%20311%20(Group%20Work).ipynb\" target=\"_parent\"><img src=\"https://colab.research.google.com/assets/colab-badge.svg\" alt=\"Open In Colab\"/></a>"
      ]
    },
    {
      "cell_type": "markdown",
      "source": [
        "<h1> Problem: </h1>"
      ],
      "metadata": {
        "id": "NgcY8KkCNK3E"
      }
    },
    {
      "cell_type": "code",
      "source": [
        "# Let's pretend we're on the metric system and use kilograms instead of pounds to give us a starting base number of 100.\n",
        "# Four people (Roman, Verlyn, Lloyd, and Robin) want to cross a river in a boat that can only carry 100kg.\n",
        "# Roman weighs 90kg, Verlyn weighs 80kg, Lloyd weighs 60kg, and Robin weighs 40kg, and they have 20kg of supplies.\n",
        "# How do they get across?"
      ],
      "metadata": {
        "id": "Eeepyb1kNQEe"
      },
      "execution_count": null,
      "outputs": []
    },
    {
      "cell_type": "markdown",
      "source": [
        "<h1> Logic: </h1>"
      ],
      "metadata": {
        "id": "SH9qmSlAIqci"
      }
    },
    {
      "cell_type": "code",
      "source": [
        "# Start [90, 80, 60, 40, 20] -> End []\n",
        "# Start [90, 60, 40] 80, 20 -> End []\n",
        "# Start [90, 60, 40] <- 80 End [20]\n",
        "# Start [90, 80] 60, 40 -> End [20]\n",
        "# Start [90, 80] <- 40 End [20, 60]\n",
        "# Start [90, 40] 80 -> End [20, 60]\n",
        "# Start [90, 40] <- 60 End [20, 80]\n",
        "# Start [90] 60, 40 -> End [20, 80]\n",
        "# Start [90] <- 60 End [20, 40, 80]\n",
        "# Start [60] 90 -> End [20, 40, 80]\n",
        "# Start [60] <- 40 End [20, 80, 90]\n",
        "# Start [] 60, 40 -> End [20, 80, 90]\n",
        "# Start [] - End [20, 40, 60, 80, 90]"
      ],
      "metadata": {
        "id": "WrMMwwWwIsE0"
      },
      "execution_count": null,
      "outputs": []
    },
    {
      "cell_type": "markdown",
      "source": [
        "<h1> Decomposition: </h1>"
      ],
      "metadata": {
        "id": "KAtTBkS-Fa_b"
      }
    },
    {
      "cell_type": "code",
      "source": [
        "# Declare a starting point (with the variable) and an ending point (blank).\n",
        "# Initialize the variable.\n",
        "# Define a function \"cross\".\n",
        "# Place a condition on the function.\n",
        "# Place a loop that will evaluate the array to get a number with their respective pair."
      ],
      "metadata": {
        "id": "hlFTgmkZFhw5"
      },
      "execution_count": null,
      "outputs": []
    },
    {
      "cell_type": "markdown",
      "source": [
        "<h1> Algorithm: </h1>"
      ],
      "metadata": {
        "id": "irCnGLUhN71g"
      }
    },
    {
      "cell_type": "code",
      "execution_count": null,
      "metadata": {
        "id": "KG7WQaZWRNFi"
      },
      "outputs": [],
      "source": [
        "from itertools import combinations\n",
        "\n",
        "start = [90, 80, 60, 40, 20]\n",
        "end = []\n",
        "\n",
        "class Variable():\n",
        "    def __init__(self, start, end):\n",
        "        self.start = start\n",
        "        self.end = end\n",
        "\n",
        "class Operation(Variable):\n",
        "    def cross(self):\n",
        "          if len(start) <= 2:\n",
        "            for num1, num2 in combinations(start, 2):\n",
        "                Weight = num1 + num2\n",
        "                if Weight == 100:\n",
        "                    print(f\"The pair {num1} and {num2} crossed the river!\")\n",
        "                    end.append((num1, num2))\n",
        "                elif Weight <= 100 and Weight > 80:\n",
        "                    print(f\"The pair {Weight} crossed the river!\")\n",
        "                    end.append((Weight))\n",
        "                else:\n",
        "                    print(f\"The pair {num1} and {num2} can not cross!\")\n",
        "          else:\n",
        "              print(f\"The pair {start[0]} crossed the river!\")\n",
        "              end.append(start[0])\n",
        "        return start, end\n",
        "\n",
        "start, end = cross()\n",
        "print(\"Valid Pairs:\", end)"
      ]
    },
    {
      "cell_type": "markdown",
      "source": [
        "<h1> Draft: </h1>"
      ],
      "metadata": {
        "id": "Jhl3bKvReBkD"
      }
    },
    {
      "cell_type": "code",
      "source": [
        "start_side = {\"Roman\":90,\"Verlyn\":80,\"Robin\":60,\"Lloyd\":40,\"Supplies\":20}\n",
        "end_side = []\n",
        "boat = None\n",
        "\n",
        "class variables():\n",
        "  def __init__(self, start_side,end_side,boat_limit = 100):\n",
        "    self.start_side = start_side\n",
        "    self.end_side = start_side\n",
        "    self.boat_limit = boat_limit\n",
        "\n",
        "class functions():\n",
        "  #function to move and backward\n",
        "  #function does not allow supply to move by itself\n",
        "  #function does not go back automatically\n",
        "\n",
        "  def Movement():\n",
        "    if len(start_side,)\n",
        "    for people in boat <=2\n",
        "\n"
      ],
      "metadata": {
        "id": "OB-pquI1uXkD"
      },
      "execution_count": null,
      "outputs": []
    },
    {
      "cell_type": "code",
      "source": [
        "start = {90, 80, 60, 40, 20}\n",
        "end = []\n",
        "boat = None\n",
        "\n",
        "class Variable():\n",
        "  def __init__(self, start, end):\n",
        "    self.start = start\n",
        "    self.end = end\n",
        "\n",
        "class Operation(Variable):\n",
        "  def cross(self):\n",
        "        while start:\n",
        "            people = sorted(start, reverse = True)\n",
        "            num1 = people[0]\n",
        "            num2 = None\n",
        "            for p in people[1:]:\n",
        "                if num1 + p <= 100:\n",
        "                    num2 = p\n",
        "                    break\n",
        "        if num2:\n",
        "          print(f\"Cross of {num1} and {num2} is successful!\")\n",
        "          start.remove((num1, num2))\n",
        "          end.append((num1, num2))\n",
        "          if num1 or num2 == 60 or 40 and len(start) != 0:\n",
        "              print(f\"The return of {num1} and {num2} is successful!\")\n",
        "              end.remove((num1, num2))\n",
        "              ride = start.append((num1, num2))\n",
        "          print(f\"The Start: {start} and End: {end}. The Passenger on the Boat: {ride}\")\n",
        "\n",
        "        else:\n",
        "          print(\"Not Allowed to Cross!\")\n",
        "          return False\n",
        "\n",
        "operation = Operation(start, end)\n",
        "operation.cross()"
      ],
      "metadata": {
        "id": "owHMqgjD0gwk"
      },
      "execution_count": null,
      "outputs": []
    }
  ]
}