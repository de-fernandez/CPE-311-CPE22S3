{
  "cells": [
    {
      "cell_type": "markdown",
      "metadata": {
        "id": "view-in-github",
        "colab_type": "text"
      },
      "source": [
        "<a href=\"https://colab.research.google.com/github/de-fernandez/CPE-311-CPE22S3/blob/main/Don%20Eleazar%20T.%20Fernandez%2C%20CPE22S3%2C%20CPE%20311%20(HOA%202.1.%20-%20Dynamic%20Programming).ipynb\" target=\"_parent\"><img src=\"https://colab.research.google.com/assets/colab-badge.svg\" alt=\"Open In Colab\"/></a>"
      ]
    },
    {
      "cell_type": "markdown",
      "id": "f1c6ec95",
      "metadata": {
        "id": "f1c6ec95"
      },
      "source": [
        "# Hands-on Activity 2.1 : Dynamic Programming"
      ]
    },
    {
      "cell_type": "markdown",
      "id": "56dacba1",
      "metadata": {
        "id": "56dacba1"
      },
      "source": [
        "#### Objective(s):\n",
        "\n",
        "This activity aims to demonstrate how to use dynamic programming to solve problems."
      ]
    },
    {
      "cell_type": "markdown",
      "id": "e51f84e3",
      "metadata": {
        "id": "e51f84e3"
      },
      "source": [
        "#### Intended Learning Outcomes (ILOs):\n",
        "* Differentiate recursion method from dynamic programming to solve problems.\n",
        "* Demonstrate how to  solve real-world problems using dynamic programming\n"
      ]
    },
    {
      "cell_type": "markdown",
      "id": "39047b1a",
      "metadata": {
        "id": "39047b1a"
      },
      "source": [
        "#### Resources:\n",
        "* Jupyter Notebook\n"
      ]
    },
    {
      "cell_type": "markdown",
      "id": "cb5360c0",
      "metadata": {
        "id": "cb5360c0"
      },
      "source": [
        "#### Procedures:"
      ]
    },
    {
      "cell_type": "markdown",
      "id": "206a914c",
      "metadata": {
        "id": "206a914c"
      },
      "source": [
        "1. Create a code that demonstrate how to use recursion method to solve problem"
      ]
    },
    {
      "cell_type": "markdown",
      "id": "5744a876",
      "metadata": {
        "id": "5744a876"
      },
      "source": [
        "2. Create a program codes that demonstrate how to use dynamic programming to solve the same problem"
      ]
    },
    {
      "cell_type": "markdown",
      "id": "8e3f6572",
      "metadata": {
        "id": "8e3f6572"
      },
      "source": [
        "##### Question:\n",
        "Explain the difference of using the recursion from dynamic programming using the given sample codes to solve the same problem"
      ]
    },
    {
      "cell_type": "markdown",
      "id": "b5a71b53",
      "metadata": {
        "id": "b5a71b53"
      },
      "source": [
        "Type your answer here:\n",
        "\n",
        "--- Recursion keeps itself on iteration (by calling itself repeatedly) until it breaks the bigger to smaller problem. It does not matter if a number has been called before, it would always go through the starting process of a recursion. Meanwhile, the dynamic programming or memoization, it stores everything that has been computed by the program to which it makes it more accessible to retrieve a computed value (this avoid recomputation), this is to reduce the execution time of the program."
      ]
    },
    {
      "cell_type": "markdown",
      "id": "60074702",
      "metadata": {
        "id": "60074702"
      },
      "source": [
        "3. Create a sample program codes to simulate bottom-up dynamic programming"
      ]
    },
    {
      "cell_type": "code",
      "source": [
        "Table = [] #the table in which the value would be appended for listing\n",
        "def sum(n):\n",
        "  result = 0 #this is to stack the values altogether\n",
        "  for i in range(0, n + 1, 1):\n",
        "    result = result + i #to add the new value as it is incremented\n",
        "    Table.append(result) #this is to add the result to the table\n",
        "  print(Table) #to display the output\n",
        "\n",
        "sum(5) #to initialize the function"
      ],
      "metadata": {
        "colab": {
          "base_uri": "https://localhost:8080/"
        },
        "id": "yoPHH75LHck-",
        "outputId": "85debeff-70f8-4176-ddf2-f3936bce07b8"
      },
      "id": "yoPHH75LHck-",
      "execution_count": null,
      "outputs": [
        {
          "output_type": "stream",
          "name": "stdout",
          "text": [
            "[0, 1, 3, 6, 10, 15]\n"
          ]
        }
      ]
    },
    {
      "cell_type": "markdown",
      "id": "e629eb89",
      "metadata": {
        "id": "e629eb89"
      },
      "source": [
        "4. Create a sample program codes that simulate tops-down dynamic programming"
      ]
    },
    {
      "cell_type": "code",
      "source": [
        "def sum(n, Dictionary = {}):\n",
        "  if n == 0: #this is a base condition which stop the function to go beyond than intended\n",
        "    return 0\n",
        "  try: #this is determine if the value of n had been solved before or not\n",
        "    return Dictionary[n] #this is to result the value of n if it had been solved before\n",
        "  except KeyError: #this is to break the problem to subproblem if ever the value of n has been not solved before\n",
        "    Dictionary[n] = sum(n - 1, Dictionary) + n #to add the new value in the dictionary as it is decremented\n",
        "    print(Dictionary) #to display the output\n",
        "    return Dictionary[n] #to display or return the overall output\n",
        "\n",
        "sum(5) #to initialize the function"
      ],
      "metadata": {
        "colab": {
          "base_uri": "https://localhost:8080/"
        },
        "id": "3xTpRgQWISY1",
        "outputId": "0ec518b6-31bc-426f-9fcd-9c512b18204f"
      },
      "id": "3xTpRgQWISY1",
      "execution_count": null,
      "outputs": [
        {
          "output_type": "stream",
          "name": "stdout",
          "text": [
            "{1: 1}\n",
            "{1: 1, 2: 3}\n",
            "{1: 1, 2: 3, 3: 6}\n",
            "{1: 1, 2: 3, 3: 6, 4: 10}\n",
            "{1: 1, 2: 3, 3: 6, 4: 10, 5: 15}\n"
          ]
        },
        {
          "output_type": "execute_result",
          "data": {
            "text/plain": [
              "15"
            ]
          },
          "metadata": {},
          "execution_count": 7
        }
      ]
    },
    {
      "cell_type": "markdown",
      "id": "c2e2434c",
      "metadata": {
        "id": "c2e2434c"
      },
      "source": [
        "#### Question:\n",
        " Explain the difference between bottom-up from top-down dynamic programming using the given sample codes"
      ]
    },
    {
      "cell_type": "markdown",
      "id": "ac97e063",
      "metadata": {
        "id": "ac97e063"
      },
      "source": [
        "Type your answer here:\n",
        "\n",
        "--- The bottom-up approach does not use recursion, instead, it iterates using a loop. It starts solving the smallest problem first and goes up to the biggest one. Meanwhile, the top-down approach uses recursion and stores computed values in a dictionary to avoid redundant calculations. This prevents recomputation when the same problem is encountered again, making it less run time for the program."
      ]
    },
    {
      "cell_type": "markdown",
      "id": "f7a5bfbd",
      "metadata": {
        "id": "f7a5bfbd"
      },
      "source": [
        "0/1 Knapsack Problem\n",
        "\n",
        "* Analyze three different techniques to solve knapsacks problem\n",
        "1. Recursion\n",
        "2. Dynamic Programming\n",
        "3. Memoization"
      ]
    },
    {
      "cell_type": "code",
      "source": [
        "#sample code for knapsack problem using recursion\n",
        "def rec_knapSack(w, wt, val, n):\n",
        "\n",
        "  #base case\n",
        "  #defined as nth item is empty;\n",
        "  #or the capacity w is 0\n",
        "  if n == 0 or w == 0:\n",
        "    return 0\n",
        "\n",
        "  #if weight of the nth item is more than\n",
        "  #the capacity W, then this item cannot be included\n",
        "  #as part of the optimal solution\n",
        "  if(wt[n-1] > w):\n",
        "    return rec_knapSack(w, wt, val, n-1)\n",
        "\n",
        "  #return the maximum of the two cases:\n",
        "  # (1) include the nth item\n",
        "  # (2) don't include the nth item\n",
        "  else:\n",
        "    return max(\n",
        "        val[n-1] + rec_knapSack(\n",
        "            w-wt[n-1], wt, val, n-1),\n",
        "            rec_knapSack(w, wt, val, n-1)\n",
        "    )"
      ],
      "metadata": {
        "id": "15SVHF85_1Ji"
      },
      "id": "15SVHF85_1Ji",
      "execution_count": null,
      "outputs": []
    },
    {
      "cell_type": "code",
      "source": [
        "#To test:\n",
        "val = [60, 100, 120] #values for the items\n",
        "wt = [10, 20, 30] #weight of the items\n",
        "w = 50 #knapsack weight capacity\n",
        "n = len(val) #number of items\n",
        "\n",
        "rec_knapSack(w, wt, val, n)"
      ],
      "metadata": {
        "colab": {
          "base_uri": "https://localhost:8080/"
        },
        "id": "b1D3YRJ7cMqU",
        "outputId": "788d87c8-0d84-4dd6-dfcf-1206fa495812"
      },
      "id": "b1D3YRJ7cMqU",
      "execution_count": null,
      "outputs": [
        {
          "output_type": "execute_result",
          "data": {
            "text/plain": [
              "220"
            ]
          },
          "metadata": {},
          "execution_count": 27
        }
      ]
    },
    {
      "cell_type": "code",
      "source": [
        "#Dynamic Programming for the Knapsack Problem\n",
        "def DP_knapSack(w, wt, val, n):\n",
        "  #create the table\n",
        "  table = [[0 for x in range(w+1)] for x in range (n+1)]\n",
        "\n",
        "  #populate the table in a bottom-up approach\n",
        "  for i in range(n+1):\n",
        "    for w in range(w+1):\n",
        "      if i == 0 or w == 0:\n",
        "        table[i][w] = 0\n",
        "      elif wt[i-1] <= w:\n",
        "        table[i][w] = max(val[i-1] + table[i-1][w-wt[i-1]],\n",
        "                          table[i-1][w])\n",
        "  return table[n][w]"
      ],
      "metadata": {
        "id": "A8OU1sUJ_1ES"
      },
      "id": "A8OU1sUJ_1ES",
      "execution_count": null,
      "outputs": []
    },
    {
      "cell_type": "code",
      "source": [
        "#To test:\n",
        "val = [60, 100, 120]\n",
        "wt = [10, 20, 30]\n",
        "w = 50\n",
        "n = len(val)\n",
        "\n",
        "DP_knapSack(w, wt, val, n)"
      ],
      "metadata": {
        "colab": {
          "base_uri": "https://localhost:8080/"
        },
        "id": "GUNeEPHrd-N1",
        "outputId": "4829e602-248b-48f8-cbd3-e75c4d87d3b6"
      },
      "id": "GUNeEPHrd-N1",
      "execution_count": null,
      "outputs": [
        {
          "output_type": "execute_result",
          "data": {
            "text/plain": [
              "220"
            ]
          },
          "metadata": {},
          "execution_count": 29
        }
      ]
    },
    {
      "cell_type": "code",
      "source": [
        "#Sample for top-down DP approach (memoization)\n",
        "#initialize the list of items\n",
        "val = [60, 100, 120]\n",
        "wt = [10, 20, 30]\n",
        "w = 50\n",
        "n = len(val)\n",
        "\n",
        "#initialize the container for the values that have to be stored\n",
        "#values are initialized to -1\n",
        "calc =[[-1 for i in range(w+1)] for j in range(n+1)]\n",
        "\n",
        "\n",
        "def mem_knapSack(wt, val, w, n):\n",
        "  #base conditions\n",
        "  if n == 0 or w == 0:\n",
        "    return 0\n",
        "  if calc[n][w] != -1:\n",
        "    return calc[n][w]\n",
        "\n",
        "  #compute for the other cases\n",
        "  if wt[n-1] <= w:\n",
        "    calc[n][w] = max(val[n-1] + mem_knapSack(wt, val, w-wt[n-1], n-1),\n",
        "                     mem_knapSack(wt, val, w, n-1))\n",
        "    return calc[n][w]\n",
        "  elif wt[n-1] > w:\n",
        "    calc[n][w] = mem_knapSack(wt, val, w, n-1)\n",
        "    return calc[n][w]\n",
        "\n",
        "mem_knapSack(wt, val, w, n)"
      ],
      "metadata": {
        "id": "VgwTX-XT_0_h",
        "colab": {
          "base_uri": "https://localhost:8080/"
        },
        "outputId": "6f3c2cc6-01fc-433a-ae1e-cbb99976c028"
      },
      "id": "VgwTX-XT_0_h",
      "execution_count": null,
      "outputs": [
        {
          "output_type": "execute_result",
          "data": {
            "text/plain": [
              "220"
            ]
          },
          "metadata": {},
          "execution_count": 31
        }
      ]
    },
    {
      "cell_type": "markdown",
      "source": [
        "**Code Analysis**\n",
        "\n",
        "Type your answer here.\n",
        "\n",
        "--- The recursion program uses brute force to compute each value in the list, making it inefficient as it requires more runtime for the program. Meanwhile, the bottom-up approach is much faster than recursion because it fills in the table for each of the computed value until the intended answer is computed. Lastly, the top-down approach is also faster than recursion, as it stores computed values for easy access in a dictionary, this prevent redundant calculations and reduce the program’s runtime."
      ],
      "metadata": {
        "id": "-UXSSblDcF8T"
      },
      "id": "-UXSSblDcF8T"
    },
    {
      "cell_type": "markdown",
      "source": [
        "## Seatwork 2.1"
      ],
      "metadata": {
        "id": "IGsdUGCUcTFd"
      },
      "id": "IGsdUGCUcTFd"
    },
    {
      "cell_type": "markdown",
      "id": "0462053d",
      "metadata": {
        "id": "0462053d"
      },
      "source": [
        "Task 1: Modify the three techniques to include additional criterion in the knapsack problems"
      ]
    },
    {
      "cell_type": "code",
      "execution_count": 79,
      "id": "ed2f6186",
      "metadata": {
        "id": "ed2f6186",
        "colab": {
          "base_uri": "https://localhost:8080/"
        },
        "outputId": "4e5e54b1-3083-4866-96ce-ab8098c59080"
      },
      "outputs": [
        {
          "output_type": "execute_result",
          "data": {
            "text/plain": [
              "220"
            ]
          },
          "metadata": {},
          "execution_count": 79
        }
      ],
      "source": [
        "#sample code for knapsack problem using recursion\n",
        "def rec_knapSack(w, wt, val, n, bag):\n",
        "\n",
        "  #base case\n",
        "  #defined as nth item is empty;\n",
        "  #or the capacity w is 0\n",
        "  #or the bag is 0\n",
        "  if n == 0 or w == 0 or bag == 0:\n",
        "    return 0\n",
        "\n",
        "  #if weight of the nth item is more than\n",
        "  #the capacity W, then this item cannot be included\n",
        "  #as part of the optimal solution\n",
        "  if(wt[n-1] > w):\n",
        "    return rec_knapSack(w, wt, val, n-1, bag)\n",
        "\n",
        "  #return the maximum of the two cases:\n",
        "  # (1) include the nth item\n",
        "  # (2) don't include the nth item\n",
        "  else:\n",
        "    return max(\n",
        "        val[n-1] + rec_knapSack(\n",
        "            w-wt[n-1], wt, val, n-1, bag-1), #if the item is included, the weight and bag capacity is reduced\n",
        "            rec_knapSack(w, wt, val, n-1, bag) #if the item is excluded, the weight and bag capacity remains the same, while the number of items is reduced\n",
        "    )\n",
        "\n",
        "#initialize the list of items\n",
        "val = [60, 100, 120] #values for the items\n",
        "wt = [10, 20, 30] #weight of the items\n",
        "w = 50 #knapsack weight capacity\n",
        "n = len(val) #number of items\n",
        "bag = 2 #the capacity of number of item\n",
        "\n",
        "#this calls the function\n",
        "rec_knapSack(w, wt, val, n, bag)"
      ]
    },
    {
      "cell_type": "code",
      "source": [
        "#Dynamic Programming for the Knapsack Problem\n",
        "def DP_knapSack(w, wt, val, n, bag):\n",
        "  #create the table with dimentions of the number of the item, weight of the item, and bag\n",
        "  table = [[[0 for _ in range(bag+1)] for _ in range(w+1)] for _ in range(n+1)]\n",
        "\n",
        "  #populate the table in a bottom-up approach\n",
        "  for i in range(n+1):\n",
        "      #iterate over all possible combinations of weight, which j is the remaining weight\n",
        "      for j in range(w+1):\n",
        "          #iterate over the number of items picked\n",
        "          for k in range(bag+1):\n",
        "              #this is the base condition: if vall values i, j, k are zero\n",
        "              if i == 0 or j == 0 or k == 0:\n",
        "                  table[i][j][k] = 0\n",
        "              elif wt[i-1] <= j:\n",
        "                  #this analyses if the item is to be included or excluded based on the weight\n",
        "                  if k > 0:\n",
        "                      table[i][j][k] = max(val[i-1] + table[i-1][j-wt[i-1]][k-1],\n",
        "                                            table[i-1][j][k])\n",
        "                  #this is to excluded the item\n",
        "                  else:\n",
        "                      table[i][j][k] = table[i-1][j][k]\n",
        "  return table[n][w][bag]\n",
        "\n",
        "#initialize the list of items\n",
        "val = [60, 100, 120] #values for the items\n",
        "wt = [10, 20, 30] #weight of the items\n",
        "w = 50 #knapsack weight capacity\n",
        "n = len(val) #number of items\n",
        "bag = 2 #the capacity of number of item\n",
        "\n",
        "#this calls the function\n",
        "DP_knapSack(w, wt, val, n, bag)"
      ],
      "metadata": {
        "colab": {
          "base_uri": "https://localhost:8080/"
        },
        "id": "Dxi8IFaSPP4z",
        "outputId": "4cdf870f-65e6-4ca1-9c33-d40106a68e92"
      },
      "id": "Dxi8IFaSPP4z",
      "execution_count": 78,
      "outputs": [
        {
          "output_type": "execute_result",
          "data": {
            "text/plain": [
              "220"
            ]
          },
          "metadata": {},
          "execution_count": 78
        }
      ]
    },
    {
      "cell_type": "code",
      "source": [
        "#Sample for top-down DP approach (memoization)\n",
        "#initialize the list of items\n",
        "val = [60, 100, 120] #values for the items\n",
        "wt = [10, 20, 30] #weight of the items\n",
        "w = 50 #knapsack weight capacity\n",
        "n = len(val) #number of items\n",
        "bag = 2 #the capacity of number of item\n",
        "\n",
        "#initialize the container for the values that have to be stored\n",
        "#values are initialized to -1\n",
        "calc = [[[-1 for _ in range(bag+1)] for _ in range(w+1)] for _ in range(n+1)]\n",
        "\n",
        "#this function is a top-down approach which take in the parameter\n",
        "def mem_knapSack(wt, val, w, n, bag):\n",
        "\n",
        "  #base conditions\n",
        "  if n == 0 or w == 0 or bag == 0:\n",
        "    return 0\n",
        "\n",
        "  #this check if the problem has already been solved\n",
        "  if calc[n][w][bag] != -1:\n",
        "    return calc[n][w][bag]\n",
        "\n",
        "  #this check if the item can fit within the declared weight\n",
        "  if wt[n-1] <= w:\n",
        "    calc[n][w][bag] = max(val[n-1] + mem_knapSack(wt, val, w-wt[n-1], n-1, bag-1),\n",
        "                     mem_knapSack(wt, val, w, n-1, bag))\n",
        "    return calc[n][w][bag]\n",
        "\n",
        "  #this check that if the item is not fit within the declared weight, it is then excluded\n",
        "  elif wt[n-1] > w:\n",
        "    calc[n][w][bag] = mem_knapSack(wt, val, w, n-1, bag)\n",
        "    return calc[n][w][bag]\n",
        "\n",
        "#this calls the function\n",
        "mem_knapSack(wt, val, w, n, bag)"
      ],
      "metadata": {
        "colab": {
          "base_uri": "https://localhost:8080/"
        },
        "id": "HXrWyUrzPSYV",
        "outputId": "2cdc989a-3bc3-4d49-8950-2cdf0d10d0f3"
      },
      "id": "HXrWyUrzPSYV",
      "execution_count": 75,
      "outputs": [
        {
          "output_type": "execute_result",
          "data": {
            "text/plain": [
              "220"
            ]
          },
          "metadata": {},
          "execution_count": 75
        }
      ]
    },
    {
      "cell_type": "markdown",
      "id": "d97e864e",
      "metadata": {
        "id": "d97e864e"
      },
      "source": [
        "Fibonacci Numbers"
      ]
    },
    {
      "cell_type": "code",
      "source": [
        "def Fibonacci(N):\n",
        "  N = N - 1 #this is to properly place the value of n in the sequence of fibonacci\n",
        "  Table = [0, 1]\n",
        "  for i in range(2, N + 1): #to loop the value to the value of n\n",
        "    result = (Table[i - 1]) + (Table[i - 2]) #to solve each value of the fibonacci sequence until to the value of n\n",
        "    Table.append(result) #to add the result to the table as it is incremented on the loop\n",
        "  print(Table) #to display the output\n",
        "\n",
        "#to initialize the function\n",
        "Fibonacci(9)"
      ],
      "metadata": {
        "id": "HoqkUdvj_2ZZ",
        "colab": {
          "base_uri": "https://localhost:8080/"
        },
        "outputId": "a7f02147-ecf7-4e45-fd4f-61b8d5507fe2"
      },
      "id": "HoqkUdvj_2ZZ",
      "execution_count": 33,
      "outputs": [
        {
          "output_type": "stream",
          "name": "stdout",
          "text": [
            "[0, 1, 1, 2, 3, 5, 8, 13, 21]\n"
          ]
        }
      ]
    },
    {
      "cell_type": "markdown",
      "id": "f44e88aa",
      "metadata": {
        "id": "f44e88aa"
      },
      "source": [
        "Task 2: Create a sample program that find the nth number of Fibonacci Series using Dynamic Programming"
      ]
    },
    {
      "cell_type": "code",
      "execution_count": null,
      "id": "745871be",
      "metadata": {
        "id": "745871be",
        "colab": {
          "base_uri": "https://localhost:8080/"
        },
        "outputId": "a41a57a4-5b81-4abe-9db6-2844414c1c74"
      },
      "outputs": [
        {
          "output_type": "stream",
          "name": "stdout",
          "text": [
            "The fibonacci value of 21 is in 9th place.\n"
          ]
        }
      ],
      "source": [
        "#type your code here\n",
        "def Fibonacci(N):\n",
        "  Table = [0, 1]\n",
        "  for i in range(2, N + 1): #to loop the value to the value of n\n",
        "    result = (Table[i - 1]) + (Table[i - 2]) #to solve each value of the fibonacci sequence until to the value of n\n",
        "    Table.append(result) #to add the result to the table as it is incremented on the loop\n",
        "    if result == N: #this is to break the loop if ever the result is equal to the value of n\n",
        "      break\n",
        "  print(f\"The fibonacci value of {N} is in {len(Table)}th place.\") #to display the output\n",
        "\n",
        "#to initialize the function\n",
        "Fibonacci(21)"
      ]
    },
    {
      "cell_type": "markdown",
      "id": "070ddd75",
      "metadata": {
        "id": "070ddd75"
      },
      "source": [
        "## Supplementary Problem (HOA 2.1 Submission):\n",
        "* Choose a real-life problem\n",
        "* Use recursion and dynamic programming to solve the problem"
      ]
    },
    {
      "cell_type": "code",
      "execution_count": 22,
      "id": "86eef507",
      "metadata": {
        "id": "86eef507",
        "colab": {
          "base_uri": "https://localhost:8080/"
        },
        "outputId": "9bd0637b-cacf-402f-de41-ea8c60f6d350"
      },
      "outputs": [
        {
          "output_type": "execute_result",
          "data": {
            "text/plain": [
              "757"
            ]
          },
          "metadata": {},
          "execution_count": 22
        }
      ],
      "source": [
        "#type your code here for recursion programming solution\n",
        "\n",
        "#Problem: Mr. Stark walked from Cainta Greenpark all the way to Robinsons Metro East. Find how many steps did it took him if the distance between both places is 560 meters.\n",
        "def step(n, m = 0):\n",
        "  if n <= 0: #the base case, this is to break the recursion if ever n is equal or less than 0\n",
        "    return m #to return the value of m, the number of steps counted, if ever n is equal or less than 0\n",
        "  return step(n - 0.74, m + 1) #as every 0.74 is subtracted to the value of n, the step counter is incremented by one\n",
        "\n",
        "#to initialize the function\n",
        "step(560)"
      ]
    },
    {
      "cell_type": "code",
      "execution_count": 23,
      "id": "73b071b6",
      "metadata": {
        "id": "73b071b6",
        "colab": {
          "base_uri": "https://localhost:8080/"
        },
        "outputId": "961df8a3-1f3b-491d-9de6-9aef8f2c957a"
      },
      "outputs": [
        {
          "output_type": "execute_result",
          "data": {
            "text/plain": [
              "757"
            ]
          },
          "metadata": {},
          "execution_count": 23
        }
      ],
      "source": [
        "#type your code here for dynamic programming solution\n",
        "\n",
        "#Problem: Mr. Stark walked from Cainta Greenpark all the way to Robinsons Metro East. Find how many steps did it took him if the distance between both places is 560 meters.\n",
        "def step(n, m = 0, Memo = {}):\n",
        "  if n <= 0: #the base case, this is to break the recursion if ever n is equal or less than 0\n",
        "    return m #to return the value of m, the number of steps counted, if ever n is equal or less than 0\n",
        "  try: #this is determine if the value of n had been solved before or not\n",
        "    Memo[m] #this is to result the value of n if it had been solved before\n",
        "  except KeyError: #this is to break the problem to subproblem if ever the value of n has been not solved before\n",
        "    Memo[m] = step(n - 0.74, m + 1) #as every 0.74 is subtracted to the value of n, the step counter is incremented by one\n",
        "    return Memo[m] #to display the overall output\n",
        "\n",
        "#to initialize the function\n",
        "step(560)"
      ]
    },
    {
      "cell_type": "markdown",
      "id": "bb0ed6a9",
      "metadata": {
        "id": "bb0ed6a9"
      },
      "source": [
        "#### Conclusion"
      ]
    },
    {
      "cell_type": "markdown",
      "source": [
        "Type your answer here.\n",
        "\n",
        "--- To conclude, the laboratory activity that we have done demonstrated the differences of recursion, bottom-up, and top-down (dynamic programming) through their program executions. The recursion can be slow because it repeats calculations, and at times result to error due to it can not handle larger values. On the other hand, the bottom-up approach solves small parts first and builds up, making it faster. Meanwhile, the top-down approach is much faster than recursion as it can access past results, avoiding unnecessary computation."
      ],
      "metadata": {
        "id": "uQtft7s7O87n"
      },
      "id": "uQtft7s7O87n"
    }
  ],
  "metadata": {
    "kernelspec": {
      "display_name": "Python 3",
      "language": "python",
      "name": "python3"
    },
    "language_info": {
      "codemirror_mode": {
        "name": "ipython",
        "version": 3
      },
      "file_extension": ".py",
      "mimetype": "text/x-python",
      "name": "python",
      "nbconvert_exporter": "python",
      "pygments_lexer": "ipython3",
      "version": "3.7.10"
    },
    "colab": {
      "provenance": [],
      "include_colab_link": true
    }
  },
  "nbformat": 4,
  "nbformat_minor": 5
}