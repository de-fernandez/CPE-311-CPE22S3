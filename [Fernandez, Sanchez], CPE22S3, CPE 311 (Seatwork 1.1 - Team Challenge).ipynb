{
  "nbformat": 4,
  "nbformat_minor": 0,
  "metadata": {
    "colab": {
      "provenance": [],
      "include_colab_link": true
    },
    "kernelspec": {
      "name": "python3",
      "display_name": "Python 3"
    },
    "language_info": {
      "name": "python"
    }
  },
  "cells": [
    {
      "cell_type": "markdown",
      "metadata": {
        "id": "view-in-github",
        "colab_type": "text"
      },
      "source": [
        "<a href=\"https://colab.research.google.com/github/de-fernandez/CPE-311-CPE22S3/blob/main/%5BFernandez%2C%20Sanchez%5D%2C%20CPE22S3%2C%20CPE%20311%20(Seatwork%201.1%20-%20Team%20Challenge).ipynb\" target=\"_parent\"><img src=\"https://colab.research.google.com/assets/colab-badge.svg\" alt=\"Open In Colab\"/></a>"
      ]
    },
    {
      "cell_type": "markdown",
      "source": [
        "<h1> Problem: </h1>"
      ],
      "metadata": {
        "id": "NgcY8KkCNK3E"
      }
    },
    {
      "cell_type": "code",
      "source": [
        "# Let's pretend we're on the metric system and use kilograms instead of pounds to give us a starting base number of 100.\n",
        "# Four people (Roman, Verlyn, Lloyd, and Robin) want to cross a river in a boat that can only carry 100kg.\n",
        "# Roman weighs 90kg, Verlyn weighs 80kg, Lloyd weighs 60kg, and Robin weighs 40kg, and they have 20kg of supplies.\n",
        "# How do they get across?"
      ],
      "metadata": {
        "id": "Eeepyb1kNQEe"
      },
      "execution_count": null,
      "outputs": []
    },
    {
      "cell_type": "markdown",
      "source": [
        "<h1> Logic: </h1>"
      ],
      "metadata": {
        "id": "SH9qmSlAIqci"
      }
    },
    {
      "cell_type": "code",
      "source": [
        "# Start [90, 80, 60, 40, 20] -> End []\n",
        "# Start [90, 60, 40] 80, 20 -> End []\n",
        "# Start [90, 60, 40] <- 80 End [20]\n",
        "# Start [90, 80] 60, 40 -> End [20]\n",
        "# Start [90, 80] <- 40 End [20, 60]\n",
        "# Start [90, 40] 80 -> End [20, 60]\n",
        "# Start [90, 40] <- 60 End [20, 80]\n",
        "# Start [90] 60, 40 -> End [20, 80]\n",
        "# Start [90] <- 60 End [20, 40, 80]\n",
        "# Start [60] 90 -> End [20, 40, 80]\n",
        "# Start [60] <- 40 End [20, 80, 90]\n",
        "# Start [] 60, 40 -> End [20, 80, 90]\n",
        "# Start [] - End [20, 40, 60, 80, 90]"
      ],
      "metadata": {
        "id": "WrMMwwWwIsE0"
      },
      "execution_count": null,
      "outputs": []
    },
    {
      "cell_type": "markdown",
      "source": [
        "<h1> Algorithm: </h1>"
      ],
      "metadata": {
        "id": "irCnGLUhN71g"
      }
    },
    {
      "cell_type": "code",
      "execution_count": 6,
      "metadata": {
        "id": "KG7WQaZWRNFi",
        "colab": {
          "base_uri": "https://localhost:8080/",
          "height": 0
        },
        "outputId": "9ca35eac-3c2e-475e-c5c2-3bc3cab33c24"
      },
      "outputs": [
        {
          "output_type": "stream",
          "name": "stdout",
          "text": [
            "[Status] Start: {'Supplies': 20, 'Robin': 40, 'Lloyd': 60, 'Verlyn': 80, 'Roman': 90} ││ End: {} ││ On Board: {}\n",
            "[Status] Start: {'Lloyd': 60, 'Verlyn': 80, 'Roman': 90} ││ End: {} ││ On Board: {'Supplies': 20, 'Robin': 40}\n",
            "[Status] Start: {'Lloyd': 60, 'Verlyn': 80, 'Roman': 90} ││ End: {'Supplies': 20, 'Robin': 40} ││ On Board: {}\n"
          ]
        }
      ],
      "source": [
        "import numpy as np\n",
        "\n",
        "passenger = {\"Roman\": 90, \"Verlyn\": 80, \"Lloyd\": 60, \"Robin\": 40}\n",
        "baggage = {\"Supplies\": 20}\n",
        "start = {**passenger.copy(), **baggage.copy()}\n",
        "end = {}\n",
        "boat = {}\n",
        "toEnd = False\n",
        "toReturn = False\n",
        "\n",
        "class Variable():\n",
        "  def __init__(self, passenger, baggage, start, end, boat):\n",
        "    self.passenger = passenger\n",
        "    self.baggage = baggage\n",
        "    self.start = start\n",
        "    self.end = end\n",
        "    self.boat = boat\n",
        "\n",
        "class problemFunction(Variable):\n",
        "  def Result(self, start, end, boat):\n",
        "    print(f\"[Status] Start: {self.start} ││ End: {self.end} ││ On Board: {self.boat}\")\n",
        "\n",
        "  def Dictionary(self, dictionary):\n",
        "    Keys = list(dictionary.keys())\n",
        "    Values = list(dictionary.values())\n",
        "    sortValue = np.argsort(Values)\n",
        "    sortDict = {Keys[i]: Values[i] for i in sortValue}\n",
        "    dictionary.clear()\n",
        "    dictionary.update(sortDict)\n",
        "\n",
        "  def Location(self, start, end, boat):\n",
        "    self.Result(start, end, boat)\n",
        "    if toEnd == True:\n",
        "      self.end.update(self.boat)\n",
        "      for name, value in self.boat.items():\n",
        "        self.start.pop(name, value)\n",
        "      self.boat.clear()\n",
        "      self.Result(start, end, boat)\n",
        "\n",
        "    if toReturn == True:\n",
        "      self.start.update(boat)\n",
        "      for name, value in self.boat.items():\n",
        "        self.end.pop(name, value)\n",
        "      self.boat.clear()\n",
        "      self.Result(start, end, boat)\n",
        "\n",
        "  def boatLimit(self, start):\n",
        "    Values = list(self.start.values())\n",
        "    for i in range(len(Values)):\n",
        "      Weight = min(Values) + Values[i]\n",
        "      if Weight <= 100:\n",
        "        return i\n",
        "    return -1\n",
        "\n",
        "  def Board(self):\n",
        "    global toEnd, toReturn\n",
        "    # sort:\n",
        "    self.Dictionary(self.start)\n",
        "    self.Dictionary(self.end)\n",
        "    self.Dictionary(self.boat)\n",
        "\n",
        "    # print:\n",
        "    self.Result(start, end, boat)\n",
        "\n",
        "    # condition to toEnd:\n",
        "    index = self.boatLimit(start)\n",
        "    if index > -1:\n",
        "      pass1 = list(self.start.keys())[index]\n",
        "      self.boat[pass1] = self.start.pop(pass1)\n",
        "      pass2Key = min(self.start, key = self.start.get)\n",
        "      self.boat[pass2Key] = self.start.pop(pass2Key)\n",
        "      toEnd = True\n",
        "      toReturn = False\n",
        "      self.Location(start, end, boat)\n",
        "\n",
        "      if len(self.start) > 3:\n",
        "        returnA = list(self.end.values())\n",
        "        returnB = max(self.end, key = self.end.get)\n",
        "        self.boat.clear()\n",
        "        self.boat[returnB] = self.end.pop(returnB)\n",
        "        toEnd = False\n",
        "        toReturn = True\n",
        "        self.location(start, end, boat)\n",
        "\n",
        "initiate = problemFunction(passenger, baggage, start, end, boat)\n",
        "initiate.Board()"
      ]
    }
  ]
}