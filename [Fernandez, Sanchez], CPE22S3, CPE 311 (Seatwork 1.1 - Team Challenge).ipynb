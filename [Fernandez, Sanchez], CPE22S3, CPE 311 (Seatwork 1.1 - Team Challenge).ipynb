{
  "nbformat": 4,
  "nbformat_minor": 0,
  "metadata": {
    "colab": {
      "provenance": [],
      "include_colab_link": true
    },
    "kernelspec": {
      "name": "python3",
      "display_name": "Python 3"
    },
    "language_info": {
      "name": "python"
    }
  },
  "cells": [
    {
      "cell_type": "markdown",
      "metadata": {
        "id": "view-in-github",
        "colab_type": "text"
      },
      "source": [
        "<a href=\"https://colab.research.google.com/github/de-fernandez/CPE-311-CPE22S3/blob/main/%5BFernandez%2C%20Sanchez%5D%2C%20CPE22S3%2C%20CPE%20311%20(Seatwork%201.1%20-%20Team%20Challenge).ipynb\" target=\"_parent\"><img src=\"https://colab.research.google.com/assets/colab-badge.svg\" alt=\"Open In Colab\"/></a>"
      ]
    },
    {
      "cell_type": "markdown",
      "source": [
        "<h1> Problem: </h1>"
      ],
      "metadata": {
        "id": "NgcY8KkCNK3E"
      }
    },
    {
      "cell_type": "code",
      "source": [
        "# Let's pretend we're on the metric system and use kilograms instead of pounds to give us a starting base number of 100.\n",
        "# Four people (Roman, Verlyn, Lloyd, and Robin) want to cross a river in a boat that can only carry 100kg.\n",
        "# Roman weighs 90kg, Verlyn weighs 80kg, Lloyd weighs 60kg, and Robin weighs 40kg, and they have 20kg of supplies.\n",
        "# How do they get across?"
      ],
      "metadata": {
        "id": "Eeepyb1kNQEe"
      },
      "execution_count": null,
      "outputs": []
    },
    {
      "cell_type": "markdown",
      "source": [
        "<h1> Logic: </h1>"
      ],
      "metadata": {
        "id": "SH9qmSlAIqci"
      }
    },
    {
      "cell_type": "code",
      "source": [
        "# Start [90, 80, 60, 40, 20] -> End []\n",
        "# Start [90, 60, 40] 80, 20 -> End []\n",
        "# Start [90, 60, 40] <- 80 End [20]\n",
        "# Start [90, 80] 60, 40 -> End [20]\n",
        "# Start [90, 80] <- 40 End [20, 60]\n",
        "# Start [90, 40] 80 -> End [20, 60]\n",
        "# Start [90, 40] <- 60 End [20, 80]\n",
        "# Start [90] 60, 40 -> End [20, 80]\n",
        "# Start [90] <- 60 End [20, 40, 80]\n",
        "# Start [60] 90 -> End [20, 40, 80]\n",
        "# Start [60] <- 40 End [20, 80, 90]\n",
        "# Start [] 60, 40 -> End [20, 80, 90]\n",
        "# Start [] - End [20, 40, 60, 80, 90]"
      ],
      "metadata": {
        "id": "WrMMwwWwIsE0"
      },
      "execution_count": null,
      "outputs": []
    },
    {
      "cell_type": "markdown",
      "source": [
        "<h1> Decomposition: </h1>"
      ],
      "metadata": {
        "id": "KAtTBkS-Fa_b"
      }
    },
    {
      "cell_type": "code",
      "source": [
        "# Declare a starting point (with the variable) and an ending point (blank).\n",
        "# Initialize the variable.\n",
        "# Define a function \"cross\".\n",
        "# Place a condition on the function.\n",
        "# Place a loop that will evaluate the array to get a number with their respective pair."
      ],
      "metadata": {
        "id": "hlFTgmkZFhw5"
      },
      "execution_count": null,
      "outputs": []
    },
    {
      "cell_type": "markdown",
      "source": [
        "<h1> Algorithm: </h1>"
      ],
      "metadata": {
        "id": "irCnGLUhN71g"
      }
    },
    {
      "cell_type": "code",
      "execution_count": null,
      "metadata": {
        "id": "KG7WQaZWRNFi",
        "colab": {
          "base_uri": "https://localhost:8080/",
          "height": 436
        },
        "outputId": "a289e980-f7af-4cef-9533-9fa5dffc8bf5"
      },
      "outputs": [
        {
          "output_type": "stream",
          "name": "stdout",
          "text": [
            "The pair 90 and 80 can not cross!\n",
            "The pair 90 and 60 can not cross!\n",
            "The pair 90 and 40 can not cross!\n",
            "The pair 90 and 20 can not cross!\n",
            "The pair 80 and 60 can not cross!\n",
            "The pair 80 and 40 can not cross!\n",
            "The pair 80 and 20 crossed the river!\n"
          ]
        },
        {
          "output_type": "error",
          "ename": "TypeError",
          "evalue": "list.append() takes exactly one argument (2 given)",
          "traceback": [
            "\u001b[0;31m---------------------------------------------------------------------------\u001b[0m",
            "\u001b[0;31mTypeError\u001b[0m                                 Traceback (most recent call last)",
            "\u001b[0;32m<ipython-input-18-9375ec048632>\u001b[0m in \u001b[0;36m<cell line: 0>\u001b[0;34m()\u001b[0m\n\u001b[1;32m     27\u001b[0m \u001b[0;34m\u001b[0m\u001b[0m\n\u001b[1;32m     28\u001b[0m \u001b[0mop\u001b[0m \u001b[0;34m=\u001b[0m \u001b[0mOperation\u001b[0m\u001b[0;34m(\u001b[0m\u001b[0mstart\u001b[0m\u001b[0;34m,\u001b[0m \u001b[0mend\u001b[0m\u001b[0;34m)\u001b[0m\u001b[0;34m\u001b[0m\u001b[0;34m\u001b[0m\u001b[0m\n\u001b[0;32m---> 29\u001b[0;31m \u001b[0mstart\u001b[0m\u001b[0;34m,\u001b[0m \u001b[0mend\u001b[0m \u001b[0;34m=\u001b[0m \u001b[0mop\u001b[0m\u001b[0;34m.\u001b[0m\u001b[0mcross\u001b[0m\u001b[0;34m(\u001b[0m\u001b[0;34m)\u001b[0m\u001b[0;34m\u001b[0m\u001b[0;34m\u001b[0m\u001b[0m\n\u001b[0m\u001b[1;32m     30\u001b[0m \u001b[0mprint\u001b[0m\u001b[0;34m(\u001b[0m\u001b[0;34m\"Crossed:\"\u001b[0m\u001b[0;34m,\u001b[0m \u001b[0mend\u001b[0m\u001b[0;34m)\u001b[0m\u001b[0;34m\u001b[0m\u001b[0;34m\u001b[0m\u001b[0m\n",
            "\u001b[0;32m<ipython-input-18-9375ec048632>\u001b[0m in \u001b[0;36mcross\u001b[0;34m(self)\u001b[0m\n\u001b[1;32m     16\u001b[0m         \u001b[0;32mif\u001b[0m \u001b[0mWeight\u001b[0m \u001b[0;34m==\u001b[0m \u001b[0;36m100\u001b[0m\u001b[0;34m:\u001b[0m\u001b[0;34m\u001b[0m\u001b[0;34m\u001b[0m\u001b[0m\n\u001b[1;32m     17\u001b[0m           \u001b[0mprint\u001b[0m\u001b[0;34m(\u001b[0m\u001b[0;34mf\"The pair {num1} and {num2} crossed the river!\"\u001b[0m\u001b[0;34m)\u001b[0m\u001b[0;34m\u001b[0m\u001b[0;34m\u001b[0m\u001b[0m\n\u001b[0;32m---> 18\u001b[0;31m           \u001b[0mend\u001b[0m\u001b[0;34m.\u001b[0m\u001b[0mappend\u001b[0m\u001b[0;34m(\u001b[0m\u001b[0mnum1\u001b[0m\u001b[0;34m,\u001b[0m \u001b[0mnum2\u001b[0m\u001b[0;34m)\u001b[0m\u001b[0;34m\u001b[0m\u001b[0;34m\u001b[0m\u001b[0m\n\u001b[0m\u001b[1;32m     19\u001b[0m           \u001b[0mstart\u001b[0m\u001b[0;34m.\u001b[0m\u001b[0mremove\u001b[0m\u001b[0;34m(\u001b[0m\u001b[0mnum1\u001b[0m\u001b[0;34m,\u001b[0m \u001b[0mnum2\u001b[0m\u001b[0;34m)\u001b[0m\u001b[0;34m\u001b[0m\u001b[0;34m\u001b[0m\u001b[0m\n\u001b[1;32m     20\u001b[0m         \u001b[0;32melse\u001b[0m\u001b[0;34m:\u001b[0m\u001b[0;34m\u001b[0m\u001b[0;34m\u001b[0m\u001b[0m\n",
            "\u001b[0;31mTypeError\u001b[0m: list.append() takes exactly one argument (2 given)"
          ]
        }
      ],
      "source": [
        "from itertools import combinations\n",
        "\n",
        "start = [90, 80, 60, 40, 20]\n",
        "end = []\n",
        "\n",
        "class Variable():\n",
        "  def __init__(self, start, end):\n",
        "    self.start = start\n",
        "    self.end = end\n",
        "\n",
        "class Operation(Variable):\n",
        "  def cross(self):\n",
        "    if len(start) >= 2:\n",
        "      for num1, num2 in combinations(start, 2):\n",
        "        Weight = num1 + num2\n",
        "        if Weight == 100:\n",
        "          print(f\"The pair {num1} and {num2} crossed the river!\")\n",
        "          end.append(num1, num2)\n",
        "          start.remove(num1, num2)\n",
        "        else:\n",
        "          print(f\"The pair {num1} and {num2} can not cross!\")\n",
        "    else:\n",
        "      print(f\"The {start[0]} crossed the river!\")\n",
        "      start.remove(start[0])\n",
        "      end.append(start[0])\n",
        "    return start, end\n",
        "\n",
        "op = Operation(start, end)\n",
        "start, end = op.cross()\n",
        "print(\"Crossed:\", end)"
      ]
    },
    {
      "cell_type": "markdown",
      "source": [
        "<h1> Draft: </h1>"
      ],
      "metadata": {
        "id": "Jhl3bKvReBkD"
      }
    },
    {
      "cell_type": "code",
      "source": [
        "start = [90, 80, 60, 40, 20]\n",
        "end = []\n",
        "boat = []\n",
        "\n",
        "class Variable():\n",
        "  def __init__(self, start, end, boat):\n",
        "    self.start = start\n",
        "    self.end = end\n",
        "    self.boat = boat\n",
        "\n",
        "class Operation(Variable):\n",
        "  def print():\n",
        "    print(f\"[Status] Start: [{start}] ll End: [{end}] ll On Board: [{boat}]\")\n",
        "\n",
        "  def location(self):\n",
        "    boat = list(boat)\n",
        "    if depart:\n",
        "      start.remove(boat)\n",
        "      end.append(boat)\n",
        "      return print()\n",
        "    if arrive:\n",
        "      start.append(boat)\n",
        "      end.remove(boat)\n",
        "      return print()\n",
        "\n",
        "  def board(self):\n",
        "    passenger = list(start)\n",
        "    a = passenger[0]\n",
        "    b = passenger[i]\n",
        "    condition = sum(a + b)\n",
        "    i = 1\n",
        "    for i in condition:\n",
        "      if condition <= 100 and condition > 20:\n",
        "        boat.append(a, b)\n",
        "        start.pop(a, b)\n",
        "      elif condition <= 20:\n",
        "        print(\"A Baggage can't drive!\")\n",
        "      else:\n",
        "        return False\n"
      ],
      "metadata": {
        "id": "OB-pquI1uXkD"
      },
      "execution_count": null,
      "outputs": []
    },
    {
      "cell_type": "code",
      "source": [
        "start = {90, 80, 60, 40, 20}\n",
        "end = []\n",
        "boat = None\n",
        "\n",
        "class Variable():\n",
        "  def __init__(self, start, end):\n",
        "    self.start = start\n",
        "    self.end = end\n",
        "\n",
        "class Operation(Variable):\n",
        "  def cross(self):\n",
        "        while start:\n",
        "            people = sorted(start, reverse = True)\n",
        "            num1 = people[0]\n",
        "            num2 = None\n",
        "            for p in people[1:]:\n",
        "                if num1 + p <= 100:\n",
        "                    num2 = p\n",
        "                    break\n",
        "        if num2:\n",
        "          print(f\"Cross of {num1} and {num2} is successful!\")\n",
        "          start.remove((num1, num2))\n",
        "          end.append((num1, num2))\n",
        "          if num1 or num2 == 60 or 40 and len(start) != 0:\n",
        "              print(f\"The return of {num1} and {num2} is successful!\")\n",
        "              end.remove((num1, num2))\n",
        "              ride = start.append((num1, num2))\n",
        "          print(f\"The Start: {start} and End: {end}. The Passenger on the Boat: {ride}\")\n",
        "\n",
        "        else:\n",
        "          print(\"Not Allowed to Cross!\")\n",
        "          return False\n",
        "\n",
        "operation = Operation(start, end)\n",
        "operation.cross()"
      ],
      "metadata": {
        "id": "owHMqgjD0gwk"
      },
      "execution_count": null,
      "outputs": []
    }
  ]
}