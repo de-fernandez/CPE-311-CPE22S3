{
 "cells": [
  {
   "cell_type": "markdown",
   "id": "3caf37b8-2dad-4a16-bb28-b6a45effcbd4",
   "metadata": {},
   "source": [
    "**Collecting weather data from an API**"
   ]
  },
  {
   "cell_type": "markdown",
   "id": "d780baeb-55ca-4dfa-83ea-c869f13b4979",
   "metadata": {},
   "source": [
    "**About the data** <br>\n",
    "\n",
    "In this notebook, we will be collecting daily weather data from the National Centers for Environmental Information (NCEI) API. We will use the Global Historical Climatology Network - Daily (GHCND) data set; see the documentation here.\n",
    "\n",
    "Note: The NCEI is part of the National Oceanic and Atmospheric Administration (NOAA) and, as you can see from the URL for the API, this resource was created when the NCEI was called the NCDC. Should the URL for this resource change in the future, you can search for the NCEI weather API to find the updated one.\n"
   ]
  },
  {
   "cell_type": "markdown",
   "id": "066b81de-0665-4f8a-89f9-f8b98d577c86",
   "metadata": {},
   "source": [
    "Paste your token below."
   ]
  },
  {
   "cell_type": "code",
   "execution_count": 4,
   "id": "680457f5-e819-4236-bd5d-677a71f6db79",
   "metadata": {},
   "outputs": [],
   "source": [
    "import requests\n",
    "\n",
    "def make_req(endpoint, payload = None):\n",
    "    return requests.get(\n",
    "        f\"https://www.ncdc.noaa.gov/cdo-web/api/v2/{endpoint}\",\n",
    "        headers = {\n",
    "            \"token\": \"COGqDwKIRDvdlxMHVhxgqTsoJqtCoAfz\"\n",
    "        },\n",
    "        params = payload\n",
    "    )"
   ]
  },
  {
   "cell_type": "code",
   "execution_count": 5,
   "id": "21f22e0f-c1f0-4b9a-bbb7-66ec522f5f4c",
   "metadata": {},
   "outputs": [
    {
     "data": {
      "text/plain": [
       "200"
      ]
     },
     "execution_count": 5,
     "metadata": {},
     "output_type": "execute_result"
    }
   ],
   "source": [
    "# Let's check if the API is working properly\n",
    "\n",
    "response = make_req(\"datasets\", {\"startdate\": \"2018-10-01\"})\n",
    "response.status_code"
   ]
  },
  {
   "cell_type": "markdown",
   "id": "143e6589-3c38-4b8f-91cb-64396aa66144",
   "metadata": {},
   "source": [
    "**Collect All Data Points for 2018 In NYC (Various Stations)**"
   ]
  },
  {
   "cell_type": "markdown",
   "id": "1e889581-a741-4064-85b5-67f674ac1c7a",
   "metadata": {},
   "source": [
    "We can make a loop to query for all the data points one day at a time. Here we create a list of all the results:"
   ]
  },
  {
   "cell_type": "code",
   "execution_count": 8,
   "id": "3e69d9be-df54-418b-b9ed-50688214517d",
   "metadata": {},
   "outputs": [
    {
     "data": {
      "text/plain": [
       "'gathering data for 2018-12-31'"
      ]
     },
     "metadata": {},
     "output_type": "display_data"
    }
   ],
   "source": [
    "import datetime\n",
    "from IPython import display as dis\n",
    "\n",
    "current = datetime.date(2018, 1, 1)\n",
    "end = datetime.date(2019, 1, 1)\n",
    "\n",
    "results = []\n",
    "\n",
    "while current < end:\n",
    "    dis.clear_output(wait=True)\n",
    "    dis.display(f\"gathering data for {str(current)}\")\n",
    "\n",
    "    response = make_req(\n",
    "        \"data\", {\n",
    "            \"datasetid\": \"GHCND\",\n",
    "            \"locationid\": \"CITY:US360019\",\n",
    "            \"startdate\": current,\n",
    "            \"enddate\": current,\n",
    "            \"units\": \"metric\",\n",
    "            \"limit\": 1000\n",
    "        }\n",
    "    )\n",
    "    if response.ok:\n",
    "        results.extend(response.json()[\"results\"])\n",
    "\n",
    "    current += datetime.timedelta(days=1)"
   ]
  },
  {
   "cell_type": "markdown",
   "id": "29c0febd-f0c4-4850-81b3-b7481a2f399e",
   "metadata": {},
   "source": [
    "Now, we can create a dataframe with all this data. Notice there are multiple stations with values for each datatype on a given day. We don't know what the stations are, but we can look them up and add them to the data:"
   ]
  },
  {
   "cell_type": "code",
   "execution_count": 52,
   "id": "721b1c5c-2d4e-4bcd-9b68-8679dd39b078",
   "metadata": {},
   "outputs": [
    {
     "data": {
      "text/html": [
       "<div>\n",
       "<style scoped>\n",
       "    .dataframe tbody tr th:only-of-type {\n",
       "        vertical-align: middle;\n",
       "    }\n",
       "\n",
       "    .dataframe tbody tr th {\n",
       "        vertical-align: top;\n",
       "    }\n",
       "\n",
       "    .dataframe thead th {\n",
       "        text-align: right;\n",
       "    }\n",
       "</style>\n",
       "<table border=\"1\" class=\"dataframe\">\n",
       "  <thead>\n",
       "    <tr style=\"text-align: right;\">\n",
       "      <th></th>\n",
       "      <th>date</th>\n",
       "      <th>datatype</th>\n",
       "      <th>station</th>\n",
       "      <th>attributes</th>\n",
       "      <th>value</th>\n",
       "    </tr>\n",
       "  </thead>\n",
       "  <tbody>\n",
       "    <tr>\n",
       "      <th>0</th>\n",
       "      <td>2018-01-01T00:00:00</td>\n",
       "      <td>PRCP</td>\n",
       "      <td>GHCND:US1CTFR0039</td>\n",
       "      <td>,,N,0800</td>\n",
       "      <td>0.0</td>\n",
       "    </tr>\n",
       "    <tr>\n",
       "      <th>1</th>\n",
       "      <td>2018-01-01T00:00:00</td>\n",
       "      <td>PRCP</td>\n",
       "      <td>GHCND:US1NJBG0015</td>\n",
       "      <td>,,N,1050</td>\n",
       "      <td>0.0</td>\n",
       "    </tr>\n",
       "    <tr>\n",
       "      <th>2</th>\n",
       "      <td>2018-01-01T00:00:00</td>\n",
       "      <td>SNOW</td>\n",
       "      <td>GHCND:US1NJBG0015</td>\n",
       "      <td>,,N,1050</td>\n",
       "      <td>0.0</td>\n",
       "    </tr>\n",
       "    <tr>\n",
       "      <th>3</th>\n",
       "      <td>2018-01-01T00:00:00</td>\n",
       "      <td>PRCP</td>\n",
       "      <td>GHCND:US1NJBG0017</td>\n",
       "      <td>,,N,0920</td>\n",
       "      <td>0.0</td>\n",
       "    </tr>\n",
       "    <tr>\n",
       "      <th>4</th>\n",
       "      <td>2018-01-01T00:00:00</td>\n",
       "      <td>SNOW</td>\n",
       "      <td>GHCND:US1NJBG0017</td>\n",
       "      <td>,,N,0920</td>\n",
       "      <td>0.0</td>\n",
       "    </tr>\n",
       "  </tbody>\n",
       "</table>\n",
       "</div>"
      ],
      "text/plain": [
       "                  date datatype            station attributes  value\n",
       "0  2018-01-01T00:00:00     PRCP  GHCND:US1CTFR0039   ,,N,0800    0.0\n",
       "1  2018-01-01T00:00:00     PRCP  GHCND:US1NJBG0015   ,,N,1050    0.0\n",
       "2  2018-01-01T00:00:00     SNOW  GHCND:US1NJBG0015   ,,N,1050    0.0\n",
       "3  2018-01-01T00:00:00     PRCP  GHCND:US1NJBG0017   ,,N,0920    0.0\n",
       "4  2018-01-01T00:00:00     SNOW  GHCND:US1NJBG0017   ,,N,0920    0.0"
      ]
     },
     "execution_count": 52,
     "metadata": {},
     "output_type": "execute_result"
    }
   ],
   "source": [
    "import pandas as pd\n",
    "\n",
    "station = pd.DataFrame(results)\n",
    "station.head()"
   ]
  },
  {
   "cell_type": "markdown",
   "id": "01da124d-1433-4ea0-a47a-2b80323e545a",
   "metadata": {},
   "source": [
    "Save this data to a file:"
   ]
  },
  {
   "cell_type": "code",
   "execution_count": 55,
   "id": "d00c3e98-1e60-4969-b53a-bbcae1d1e4d3",
   "metadata": {},
   "outputs": [],
   "source": [
    "path = df.to_csv(\"nyc_weather_2018.csv\", index=False)"
   ]
  },
  {
   "cell_type": "markdown",
   "id": "82008ced-1067-4f01-b38e-39a642ba924c",
   "metadata": {},
   "source": [
    "and write it to the database:"
   ]
  },
  {
   "cell_type": "code",
   "execution_count": 57,
   "id": "0f6be5a4-c1c7-4aed-9352-897caff38547",
   "metadata": {},
   "outputs": [],
   "source": [
    "import sqlite3 as sq3\n",
    "\n",
    "with sq3.connect(\"weather.db\") as connection:\n",
    "  df.to_sql(\n",
    "      \"weather\", connection, index=False, if_exists=\"replace\"\n",
    "  )"
   ]
  },
  {
   "cell_type": "markdown",
   "id": "7614e431-fece-4b9e-9323-769debba39ba",
   "metadata": {},
   "source": [
    "For learning about merging dataframes, we will also get the data mapping station IDs to information about the station:"
   ]
  },
  {
   "cell_type": "code",
   "execution_count": 61,
   "id": "428437e5-63b7-4498-a728-7482bbc7f205",
   "metadata": {},
   "outputs": [],
   "source": [
    "response = make_req(\n",
    "    \"stations\", {\n",
    "        \"datasetid\": \"GHCND\",\n",
    "        \"locationid\": \"CITY:US360019\",\n",
    "        \"limit\": 1000\n",
    "    }\n",
    ")\n",
    "\n",
    "# searched using the database(SQLite3) connection from previous cell ↑↑↑\n",
    "station_1 = pd.DataFrame(response.json()[\"results\"])[[\"id\", \"name\", \"latitude\", \"longitude\", \"elevation\"]]\n",
    "station_1.to_csv(\"weather_stations.csv\", index=False) # create a csv of the weather stations\n",
    "\n",
    "with sq3.connect(\"weather.db\") as connection:\n",
    "  station_1.to_sql(\"stations\", connection, index=False, if_exists=\"replace\")"
   ]
  },
  {
   "cell_type": "code",
   "execution_count": 62,
   "id": "d68ce958-406f-4eb5-bb56-79d499e29572",
   "metadata": {},
   "outputs": [
    {
     "data": {
      "text/html": [
       "<div>\n",
       "<style scoped>\n",
       "    .dataframe tbody tr th:only-of-type {\n",
       "        vertical-align: middle;\n",
       "    }\n",
       "\n",
       "    .dataframe tbody tr th {\n",
       "        vertical-align: top;\n",
       "    }\n",
       "\n",
       "    .dataframe thead th {\n",
       "        text-align: right;\n",
       "    }\n",
       "</style>\n",
       "<table border=\"1\" class=\"dataframe\">\n",
       "  <thead>\n",
       "    <tr style=\"text-align: right;\">\n",
       "      <th></th>\n",
       "      <th>id</th>\n",
       "      <th>name</th>\n",
       "      <th>latitude</th>\n",
       "      <th>longitude</th>\n",
       "      <th>elevation</th>\n",
       "    </tr>\n",
       "  </thead>\n",
       "  <tbody>\n",
       "    <tr>\n",
       "      <th>0</th>\n",
       "      <td>GHCND:US1CTFR0022</td>\n",
       "      <td>STAMFORD 2.6 SSW, CT US</td>\n",
       "      <td>41.064100</td>\n",
       "      <td>-73.577000</td>\n",
       "      <td>36.6</td>\n",
       "    </tr>\n",
       "    <tr>\n",
       "      <th>1</th>\n",
       "      <td>GHCND:US1CTFR0039</td>\n",
       "      <td>STAMFORD 4.2 S, CT US</td>\n",
       "      <td>41.037788</td>\n",
       "      <td>-73.568176</td>\n",
       "      <td>6.4</td>\n",
       "    </tr>\n",
       "    <tr>\n",
       "      <th>2</th>\n",
       "      <td>GHCND:US1NJBG0001</td>\n",
       "      <td>BERGENFIELD 0.3 SW, NJ US</td>\n",
       "      <td>40.921298</td>\n",
       "      <td>-74.001983</td>\n",
       "      <td>20.1</td>\n",
       "    </tr>\n",
       "    <tr>\n",
       "      <th>3</th>\n",
       "      <td>GHCND:US1NJBG0002</td>\n",
       "      <td>SADDLE BROOK TWP 0.6 E, NJ US</td>\n",
       "      <td>40.902694</td>\n",
       "      <td>-74.083358</td>\n",
       "      <td>16.8</td>\n",
       "    </tr>\n",
       "    <tr>\n",
       "      <th>4</th>\n",
       "      <td>GHCND:US1NJBG0003</td>\n",
       "      <td>TENAFLY 1.3 W, NJ US</td>\n",
       "      <td>40.914670</td>\n",
       "      <td>-73.977500</td>\n",
       "      <td>21.6</td>\n",
       "    </tr>\n",
       "    <tr>\n",
       "      <th>...</th>\n",
       "      <td>...</td>\n",
       "      <td>...</td>\n",
       "      <td>...</td>\n",
       "      <td>...</td>\n",
       "      <td>...</td>\n",
       "    </tr>\n",
       "    <tr>\n",
       "      <th>325</th>\n",
       "      <td>GHCND:USW00054787</td>\n",
       "      <td>FARMINGDALE REPUBLIC AIRPORT, NY US</td>\n",
       "      <td>40.734430</td>\n",
       "      <td>-73.416370</td>\n",
       "      <td>22.8</td>\n",
       "    </tr>\n",
       "    <tr>\n",
       "      <th>326</th>\n",
       "      <td>GHCND:USW00094728</td>\n",
       "      <td>NY CITY CENTRAL PARK, NY US</td>\n",
       "      <td>40.778980</td>\n",
       "      <td>-73.969250</td>\n",
       "      <td>42.7</td>\n",
       "    </tr>\n",
       "    <tr>\n",
       "      <th>327</th>\n",
       "      <td>GHCND:USW00094741</td>\n",
       "      <td>TETERBORO AIRPORT, NJ US</td>\n",
       "      <td>40.858980</td>\n",
       "      <td>-74.056160</td>\n",
       "      <td>0.8</td>\n",
       "    </tr>\n",
       "    <tr>\n",
       "      <th>328</th>\n",
       "      <td>GHCND:USW00094745</td>\n",
       "      <td>WESTCHESTER CO AIRPORT, NY US</td>\n",
       "      <td>41.062360</td>\n",
       "      <td>-73.704540</td>\n",
       "      <td>112.9</td>\n",
       "    </tr>\n",
       "    <tr>\n",
       "      <th>329</th>\n",
       "      <td>GHCND:USW00094789</td>\n",
       "      <td>JFK INTERNATIONAL AIRPORT, NY US</td>\n",
       "      <td>40.639150</td>\n",
       "      <td>-73.763900</td>\n",
       "      <td>2.7</td>\n",
       "    </tr>\n",
       "  </tbody>\n",
       "</table>\n",
       "<p>330 rows × 5 columns</p>\n",
       "</div>"
      ],
      "text/plain": [
       "                    id                                 name   latitude  \\\n",
       "0    GHCND:US1CTFR0022              STAMFORD 2.6 SSW, CT US  41.064100   \n",
       "1    GHCND:US1CTFR0039                STAMFORD 4.2 S, CT US  41.037788   \n",
       "2    GHCND:US1NJBG0001            BERGENFIELD 0.3 SW, NJ US  40.921298   \n",
       "3    GHCND:US1NJBG0002        SADDLE BROOK TWP 0.6 E, NJ US  40.902694   \n",
       "4    GHCND:US1NJBG0003                 TENAFLY 1.3 W, NJ US  40.914670   \n",
       "..                 ...                                  ...        ...   \n",
       "325  GHCND:USW00054787  FARMINGDALE REPUBLIC AIRPORT, NY US  40.734430   \n",
       "326  GHCND:USW00094728          NY CITY CENTRAL PARK, NY US  40.778980   \n",
       "327  GHCND:USW00094741             TETERBORO AIRPORT, NJ US  40.858980   \n",
       "328  GHCND:USW00094745        WESTCHESTER CO AIRPORT, NY US  41.062360   \n",
       "329  GHCND:USW00094789     JFK INTERNATIONAL AIRPORT, NY US  40.639150   \n",
       "\n",
       "     longitude  elevation  \n",
       "0   -73.577000       36.6  \n",
       "1   -73.568176        6.4  \n",
       "2   -74.001983       20.1  \n",
       "3   -74.083358       16.8  \n",
       "4   -73.977500       21.6  \n",
       "..         ...        ...  \n",
       "325 -73.416370       22.8  \n",
       "326 -73.969250       42.7  \n",
       "327 -74.056160        0.8  \n",
       "328 -73.704540      112.9  \n",
       "329 -73.763900        2.7  \n",
       "\n",
       "[330 rows x 5 columns]"
      ]
     },
     "execution_count": 62,
     "metadata": {},
     "output_type": "execute_result"
    }
   ],
   "source": [
    "station = pd.read_csv(\"weather_stations.csv\")\n",
    "station"
   ]
  },
  {
   "cell_type": "code",
   "execution_count": null,
   "id": "e2f0e5a7-7b04-425e-83a8-30db06449a1c",
   "metadata": {},
   "outputs": [],
   "source": []
  }
 ],
 "metadata": {
  "kernelspec": {
   "display_name": "Python [conda env:base] *",
   "language": "python",
   "name": "conda-base-py"
  },
  "language_info": {
   "codemirror_mode": {
    "name": "ipython",
    "version": 3
   },
   "file_extension": ".py",
   "mimetype": "text/x-python",
   "name": "python",
   "nbconvert_exporter": "python",
   "pygments_lexer": "ipython3",
   "version": "3.12.7"
  }
 },
 "nbformat": 4,
 "nbformat_minor": 5
}
