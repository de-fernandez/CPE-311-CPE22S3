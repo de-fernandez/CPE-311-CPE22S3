{
 "cells": [
  {
   "cell_type": "code",
   "execution_count": 54,
   "id": "473f20b4-82b9-4a32-90dc-aa0971882527",
   "metadata": {},
   "outputs": [],
   "source": [
    "# Don Eleazar T. Fernandez\n",
    "# CPE22S3, CPE 311\n",
    "# Quiz 2.1"
   ]
  },
  {
   "cell_type": "code",
   "execution_count": null,
   "id": "4d66d600-74ef-4641-a538-df81f1146226",
   "metadata": {},
   "outputs": [],
   "source": [
    "# 1. Given a sequence of n real numbers A(1) ... A(n), determine a contiguous subsequence A(i) ... A(j) for which the sum of elements in the subsequence is maximized."
   ]
  },
  {
   "cell_type": "code",
   "execution_count": 74,
   "id": "30d69dcb-2dcd-4303-a1c3-19d996b34c08",
   "metadata": {},
   "outputs": [
    {
     "data": {
      "text/plain": [
       "15"
      ]
     },
     "execution_count": 74,
     "metadata": {},
     "output_type": "execute_result"
    }
   ],
   "source": [
    "# Memoization Method\n",
    "\n",
    "def sum(n, memo = {}):\n",
    "    if n == 0: # Base case\n",
    "        return 0\n",
    "    if n == 1: # Base case\n",
    "        return 1\n",
    "    try: # Determines if the value has been computed or not. If they have been computed, their output is displayed. If not, then they would be passed on to the \"except keyerror\"\n",
    "        memo[n]\n",
    "    except KeyError: #\n",
    "        memo[n] = sum(n - 1) + n # It computes and recurses the value of n\n",
    "        return memo[n] # Their output is displayed if the problem has been solved\n",
    "\n",
    "sum(5) # this calls the function"
   ]
  },
  {
   "cell_type": "code",
   "execution_count": 82,
   "id": "2e900626-661a-4dc4-858c-5db5d02fe534",
   "metadata": {},
   "outputs": [
    {
     "name": "stdout",
     "output_type": "stream",
     "text": [
      "The maximized sum of numbers [1, 2, 3, 4, 5] is 15.\n"
     ]
    }
   ],
   "source": [
    "# Tabulation Method #1\n",
    "\n",
    "def sum(n):\n",
    "    counter = 0 # The counter in which it results the output as it loops\n",
    "    tab = [] # The list in which the used digits (i) from the sequence are added as it loops\n",
    "    for i in range(1, n+1, 1): # The loop\n",
    "        counter = counter + i # It adds up the total value\n",
    "        tab.append(i) # It adds all the used digit (i) from the sequence\n",
    "    print(f\"The maximized sum of numbers {tab} is {counter}.\") # It displays the sequence and the values computed\n",
    "    \n",
    "sum(5) # A value for the function to test, it also calls the function"
   ]
  },
  {
   "cell_type": "code",
   "execution_count": 84,
   "id": "5ec25405-7829-4583-a767-59a3bddf0264",
   "metadata": {},
   "outputs": [
    {
     "name": "stdout",
     "output_type": "stream",
     "text": [
      "The maximized sum of numbers [1, 2, 3, 4, 5] is 15.\n"
     ]
    }
   ],
   "source": [
    "# Tabulation Method #2\n",
    "\n",
    "def sum(m, n):\n",
    "    counter = 0 # The counter in which it results the output as it loops\n",
    "    tab = [] # The list in which the used digits (i) from the sequence are added as it loops\n",
    "    for i in range(m, n+1, 1): # The loop\n",
    "        counter = counter + i # It adds up the total value\n",
    "        tab.append(i) # It adds all the used digit (i) from the sequence\n",
    "    print(f\"The maximized sum of numbers {tab} is {counter}.\") # It displays the sequence and the values computed\n",
    "\n",
    "sum(1, 5) # The values for the function to test, it also calls the function"
   ]
  },
  {
   "cell_type": "code",
   "execution_count": null,
   "id": "a18e9d0b-9398-4d2d-b3c0-71fea1dd57e7",
   "metadata": {},
   "outputs": [],
   "source": [
    "# 2. You are given n types of coin denominations of values v(1) < v(2) < ... < v(n) (all integers). Assume v(1) = 1, so you can always make change for any amount of money C.\n",
    "# Give an algorithm which makes change for an amount of money C with as few coins as possible. [on problem set 4"
   ]
  },
  {
   "cell_type": "code",
   "execution_count": 88,
   "id": "7e881397-6291-4ab6-9d2f-627aa787fc05",
   "metadata": {},
   "outputs": [
    {
     "ename": "IndexError",
     "evalue": "pop index out of range",
     "output_type": "error",
     "traceback": [
      "\u001b[1;31m---------------------------------------------------------------------------\u001b[0m",
      "\u001b[1;31mIndexError\u001b[0m                                Traceback (most recent call last)",
      "Cell \u001b[1;32mIn[88], line 12\u001b[0m\n\u001b[0;32m      9\u001b[0m             bank\u001b[38;5;241m.\u001b[39mpop(value)\n\u001b[0;32m     10\u001b[0m     \u001b[38;5;28mprint\u001b[39m(wallet)\n\u001b[1;32m---> 12\u001b[0m change(\u001b[38;5;241m20\u001b[39m)\n",
      "Cell \u001b[1;32mIn[88], line 9\u001b[0m, in \u001b[0;36mchange\u001b[1;34m(coin)\u001b[0m\n\u001b[0;32m      7\u001b[0m         wallet\u001b[38;5;241m.\u001b[39mappend(value)\n\u001b[0;32m      8\u001b[0m     \u001b[38;5;28;01melif\u001b[39;00m coin \u001b[38;5;241m>\u001b[39m value:\n\u001b[1;32m----> 9\u001b[0m         bank\u001b[38;5;241m.\u001b[39mpop(value)\n\u001b[0;32m     10\u001b[0m \u001b[38;5;28mprint\u001b[39m(wallet)\n",
      "\u001b[1;31mIndexError\u001b[0m: pop index out of range"
     ]
    }
   ],
   "source": [
    "def change(coin):\n",
    "    bank = [1, 5, 10, 20, 50, 100, 200, 500, 1000]\n",
    "    wallet = []\n",
    "    for i in range(0, coin, 1):\n",
    "        value = bank[-i]\n",
    "        if coin < value:\n",
    "            wallet.append(value)\n",
    "        elif coin > value:\n",
    "            bank.pop(value)\n",
    "    print(wallet)\n",
    "    \n",
    "change(20)        "
   ]
  }
 ],
 "metadata": {
  "kernelspec": {
   "display_name": "Python 3 (ipykernel)",
   "language": "python",
   "name": "python3"
  },
  "language_info": {
   "codemirror_mode": {
    "name": "ipython",
    "version": 3
   },
   "file_extension": ".py",
   "mimetype": "text/x-python",
   "name": "python",
   "nbconvert_exporter": "python",
   "pygments_lexer": "ipython3",
   "version": "3.12.4"
  }
 },
 "nbformat": 4,
 "nbformat_minor": 5
}
